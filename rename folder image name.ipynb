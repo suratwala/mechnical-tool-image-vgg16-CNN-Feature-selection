{
 "cells": [
  {
   "cell_type": "code",
   "execution_count": null,
   "metadata": {},
   "outputs": [],
   "source": []
  },
  {
   "cell_type": "code",
   "execution_count": 2,
   "metadata": {},
   "outputs": [],
   "source": [
    "import os\n"
   ]
  },
  {
   "cell_type": "markdown",
   "metadata": {},
   "source": [
    "## rename for train data"
   ]
  },
  {
   "cell_type": "code",
   "execution_count": 39,
   "metadata": {},
   "outputs": [],
   "source": [
    "path=\"F:\\\\IACSD-PROJECT-MECHANICAL-IACSD-PROJECT-MECHNICAL-TOOL\\\\machine-tool-dataset\\\\train_data\\\\train_data\\\\\"+name[7]"
   ]
  },
  {
   "cell_type": "code",
   "execution_count": 40,
   "metadata": {},
   "outputs": [],
   "source": [
    "for i,filename in enumerate(os.listdir(path)):\n",
    "    dest =str(i+4931)+\".jpg\"\n",
    "    source=os.path.join(path,filename)\n",
    "    dest=os.path.join(path,dest) \n",
    "    os.rename(source,dest)"
   ]
  },
  {
   "cell_type": "markdown",
   "metadata": {},
   "source": [
    "## Total no of images per class in training dataset"
   ]
  },
  {
   "cell_type": "code",
   "execution_count": 3,
   "metadata": {},
   "outputs": [],
   "source": [
    "train = \"F:\\\\IACSD-PROJECT-MECHANICAL-IACSD-PROJECT-MECHNICAL-TOOL\\\\machine-tool-dataset\\\\train_data\\\\train_data\"\n",
    "CLASSES = os.listdir(train)"
   ]
  },
  {
   "cell_type": "code",
   "execution_count": 4,
   "metadata": {},
   "outputs": [
    {
     "name": "stdout",
     "output_type": "stream",
     "text": [
      "CLASS FOR TRAIN: Gasoline Can-->Total image: 210\n",
      "CLASS FOR TRAIN: Hammer-->Total image: 1627\n",
      "CLASS FOR TRAIN: pebbel-->Total image: 599\n",
      "CLASS FOR TRAIN: Pliers-->Total image: 371\n",
      "CLASS FOR TRAIN: Rope-->Total image: 370\n",
      "CLASS FOR TRAIN: Screw Driver-->Total image: 1326\n",
      "CLASS FOR TRAIN: Tool box-->Total image: 427\n",
      "CLASS FOR TRAIN: Wrench-->Total image: 1331\n"
     ]
    }
   ],
   "source": [
    "for imgType in CLASSES:\n",
    "    imgTypePath = train + \"/\" + imgType + \"/\"\n",
    "    print(\"CLASS FOR TRAIN: \" + imgType + \"-->\"+\"Total image: \" + str(len(os.listdir(imgTypePath))))"
   ]
  },
  {
   "cell_type": "markdown",
   "metadata": {},
   "source": [
    "## 2nd way rename folder"
   ]
  },
  {
   "cell_type": "code",
   "execution_count": 29,
   "metadata": {},
   "outputs": [
    {
     "data": {
      "text/plain": [
       "['Gasoline Can',\n",
       " 'Hammer',\n",
       " 'pebbel',\n",
       " 'Pliers',\n",
       " 'Rope',\n",
       " 'Screw Driver',\n",
       " 'Tool box',\n",
       " 'Wrench']"
      ]
     },
     "execution_count": 29,
     "metadata": {},
     "output_type": "execute_result"
    }
   ],
   "source": [
    "\n",
    "name=os.listdir(path)\n",
    "name"
   ]
  },
  {
   "cell_type": "code",
   "execution_count": 30,
   "metadata": {},
   "outputs": [
    {
     "data": {
      "text/plain": [
       "'Gasoline Can'"
      ]
     },
     "execution_count": 30,
     "metadata": {},
     "output_type": "execute_result"
    }
   ],
   "source": [
    "name[0]"
   ]
  },
  {
   "cell_type": "code",
   "execution_count": null,
   "metadata": {},
   "outputs": [],
   "source": [
    "path1=\"F:\\\\IACSD-PROJECT-MECHANICAL-IACSD-PROJECT-MECHNICAL-TOOL\\\\machine-tool-dataset\\\\train_data\\\\train_data\\\\\""
   ]
  },
  {
   "cell_type": "code",
   "execution_count": null,
   "metadata": {},
   "outputs": [],
   "source": [
    "count=1\n",
    "for a in name:\n",
    "    \n",
    "    for i,filename in enumerate(os.listdir(path1+a)):\n",
    "        dest =str(i+count)+\".jpg\"\n",
    "        source=os.path.join(path1,filename)\n",
    "        dest=os.path.join(path1,dest) \n",
    "        os.rename(source,dest)\n",
    "        count=count+1"
   ]
  },
  {
   "cell_type": "markdown",
   "metadata": {},
   "source": [
    "## rename for test data"
   ]
  },
  {
   "cell_type": "code",
   "execution_count": 2,
   "metadata": {},
   "outputs": [],
   "source": [
    "path2=\"F:\\\\IACSD-PROJECT-MECHANICAL-IACSD-PROJECT-MECHNICAL-TOOL\\\\machine-tool-dataset\\\\test_data\\\\test_data\""
   ]
  },
  {
   "cell_type": "code",
   "execution_count": 4,
   "metadata": {},
   "outputs": [],
   "source": [
    "for i,filename in enumerate(os.listdir(path2)):\n",
    "    \n",
    "      dest =str(i+1)+\".jpg\"\n",
    "      source=os.path.join(path2,filename)\n",
    "      dest=os.path.join(path2,dest) \n",
    "      os.rename(source,dest)"
   ]
  },
  {
   "cell_type": "code",
   "execution_count": null,
   "metadata": {},
   "outputs": [],
   "source": []
  }
 ],
 "metadata": {
  "kernelspec": {
   "display_name": "Python 3",
   "language": "python",
   "name": "python3"
  },
  "language_info": {
   "codemirror_mode": {
    "name": "ipython",
    "version": 3
   },
   "file_extension": ".py",
   "mimetype": "text/x-python",
   "name": "python",
   "nbconvert_exporter": "python",
   "pygments_lexer": "ipython3",
   "version": "3.8.5"
  }
 },
 "nbformat": 4,
 "nbformat_minor": 4
}
